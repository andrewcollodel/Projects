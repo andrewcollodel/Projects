{
 "cells": [
  {
   "cell_type": "markdown",
   "id": "968f031c-f165-4586-ab7d-585f04b86839",
   "metadata": {},
   "source": [
    "# Classifying Data with Logistic Regression in Python\n",
    "\n",
    "## Project Objective\n",
    "The purpose of this project is to predict if a student will pass their exams based on an average pass rate of 60% (60% and above = pass below 60% is a fail) as this is the minimum requirement at prestigious Universities . The predictors are gender, ethnicity, preparation, lunch and parent’s education. The response is Year Result (pass or fail).\n",
    "\n",
    "### Data Source\n",
    "Students Performance in Exams Dataset source information\n",
    "\n",
    "https://www.kaggle.com/datasets/spscientist/students-performance-in-exams/code?datasetId=74977&sortBy=voteCount&language=Python\n",
    "\n",
    "The dataset contains 1,000 records and 8 fields"
   ]
  },
  {
   "cell_type": "markdown",
   "id": "705d2b7d-f5dc-496a-9f32-25e7291c271b",
   "metadata": {},
   "source": [
    "## Importing the Python Packages\n",
    "\n",
    "import the required Python packages."
   ]
  },
  {
   "cell_type": "code",
   "execution_count": 1,
   "id": "1367895a-a8fd-4423-bda8-8cd78e9809a8",
   "metadata": {},
   "outputs": [],
   "source": [
    "import pandas as pd # used to \"tidy\" up and manipulate our data\n",
    "import numpy as np # used for matrix and numerical calculations; foundation of pandas\n",
    "from scipy import stats # contains stats functions and is used to visualise probability distributions\n",
    "from scipy.stats import norm \n",
    "from scipy.stats import sem # Standard error of mean\n",
    "import matplotlib.pyplot as plt # used for visualisations\n",
    "%matplotlib inline\n",
    "from matplotlib.axes._axes import _log as matplotlib_axes_logger\n",
    "matplotlib_axes_logger.setLevel('ERROR') # error handling\n",
    "import seaborn as sns # a more user-friendly library used for visualisations\n",
    "sns.set_theme(rc={'figure.figsize':(8,6)})\n",
    "import statistics\n",
    "# import model and matrics\n",
    "from sklearn.linear_model import LogisticRegression\n",
    "from sklearn.model_selection import train_test_split, GridSearchCV, cross_val_score, RepeatedStratifiedKFold, StratifiedKFold\n",
    "from sklearn.metrics import accuracy_score, confusion_matrix,roc_curve, roc_auc_score, precision_score, recall_score, precision_recall_curve\n",
    "from sklearn.metrics import f1_score"
   ]
  },
  {
   "cell_type": "markdown",
   "id": "55cf5437-41d3-4e24-963b-02243647aa5a",
   "metadata": {},
   "source": [
    "## 1. Collect the Data\n",
    "\n",
    "Import the data into a dataframe called `dfR`."
   ]
  },
  {
   "cell_type": "code",
   "execution_count": 2,
   "id": "27ed27b1-5d8f-411a-b7a6-517eace87e53",
   "metadata": {},
   "outputs": [],
   "source": [
    "df = pd.read_csv(\"C:/Users/ke337467/OneDrive - Oxfordshire County Council/Data Scientist Apprenticeship/Module Portfolio - Data Science Professional Practice/Exam Performance Logistic Regression/StudentsPerformance.csv\")"
   ]
  },
  {
   "cell_type": "markdown",
   "id": "e29d87cf-b59a-4a0f-a864-f85f86588118",
   "metadata": {},
   "source": [
    "To verify that the import worked as expected, preview the data using the `head()` method."
   ]
  },
  {
   "cell_type": "code",
   "execution_count": 3,
   "id": "fd5a799a-2a2f-4627-948b-6fbab9f0c4cf",
   "metadata": {},
   "outputs": [
    {
     "data": {
      "text/html": [
       "<div>\n",
       "<style scoped>\n",
       "    .dataframe tbody tr th:only-of-type {\n",
       "        vertical-align: middle;\n",
       "    }\n",
       "\n",
       "    .dataframe tbody tr th {\n",
       "        vertical-align: top;\n",
       "    }\n",
       "\n",
       "    .dataframe thead th {\n",
       "        text-align: right;\n",
       "    }\n",
       "</style>\n",
       "<table border=\"1\" class=\"dataframe\">\n",
       "  <thead>\n",
       "    <tr style=\"text-align: right;\">\n",
       "      <th></th>\n",
       "      <th>gender</th>\n",
       "      <th>race/ethnicity</th>\n",
       "      <th>parental level of education</th>\n",
       "      <th>lunch</th>\n",
       "      <th>test preparation course</th>\n",
       "      <th>math score</th>\n",
       "      <th>reading score</th>\n",
       "      <th>writing score</th>\n",
       "    </tr>\n",
       "  </thead>\n",
       "  <tbody>\n",
       "    <tr>\n",
       "      <th>0</th>\n",
       "      <td>female</td>\n",
       "      <td>group B</td>\n",
       "      <td>bachelor's degree</td>\n",
       "      <td>standard</td>\n",
       "      <td>none</td>\n",
       "      <td>72</td>\n",
       "      <td>72</td>\n",
       "      <td>74</td>\n",
       "    </tr>\n",
       "    <tr>\n",
       "      <th>1</th>\n",
       "      <td>female</td>\n",
       "      <td>group C</td>\n",
       "      <td>some college</td>\n",
       "      <td>standard</td>\n",
       "      <td>completed</td>\n",
       "      <td>69</td>\n",
       "      <td>90</td>\n",
       "      <td>88</td>\n",
       "    </tr>\n",
       "    <tr>\n",
       "      <th>2</th>\n",
       "      <td>female</td>\n",
       "      <td>group B</td>\n",
       "      <td>master's degree</td>\n",
       "      <td>standard</td>\n",
       "      <td>none</td>\n",
       "      <td>90</td>\n",
       "      <td>95</td>\n",
       "      <td>93</td>\n",
       "    </tr>\n",
       "    <tr>\n",
       "      <th>3</th>\n",
       "      <td>male</td>\n",
       "      <td>group A</td>\n",
       "      <td>associate's degree</td>\n",
       "      <td>free/reduced</td>\n",
       "      <td>none</td>\n",
       "      <td>47</td>\n",
       "      <td>57</td>\n",
       "      <td>44</td>\n",
       "    </tr>\n",
       "    <tr>\n",
       "      <th>4</th>\n",
       "      <td>male</td>\n",
       "      <td>group C</td>\n",
       "      <td>some college</td>\n",
       "      <td>standard</td>\n",
       "      <td>none</td>\n",
       "      <td>76</td>\n",
       "      <td>78</td>\n",
       "      <td>75</td>\n",
       "    </tr>\n",
       "  </tbody>\n",
       "</table>\n",
       "</div>"
      ],
      "text/plain": [
       "   gender race/ethnicity parental level of education         lunch  \\\n",
       "0  female        group B           bachelor's degree      standard   \n",
       "1  female        group C                some college      standard   \n",
       "2  female        group B             master's degree      standard   \n",
       "3    male        group A          associate's degree  free/reduced   \n",
       "4    male        group C                some college      standard   \n",
       "\n",
       "  test preparation course  math score  reading score  writing score  \n",
       "0                    none          72             72             74  \n",
       "1               completed          69             90             88  \n",
       "2                    none          90             95             93  \n",
       "3                    none          47             57             44  \n",
       "4                    none          76             78             75  "
      ]
     },
     "execution_count": 3,
     "metadata": {},
     "output_type": "execute_result"
    }
   ],
   "source": [
    "df.head()"
   ]
  },
  {
   "cell_type": "markdown",
   "id": "bd6b97cc-a8b8-429f-977a-7443318317f8",
   "metadata": {},
   "source": [
    "## 2. Tidy up the data set\n",
    "Check the data set for any missing data"
   ]
  },
  {
   "cell_type": "code",
   "execution_count": 4,
   "id": "e3da065e-4b29-49d3-8cce-b222fda3735c",
   "metadata": {},
   "outputs": [
    {
     "data": {
      "text/plain": [
       "gender                         0\n",
       "race/ethnicity                 0\n",
       "parental level of education    0\n",
       "lunch                          0\n",
       "test preparation course        0\n",
       "math score                     0\n",
       "reading score                  0\n",
       "writing score                  0\n",
       "dtype: int64"
      ]
     },
     "execution_count": 4,
     "metadata": {},
     "output_type": "execute_result"
    }
   ],
   "source": [
    "df.isnull().sum(axis=0)"
   ]
  },
  {
   "cell_type": "markdown",
   "id": "8deccca6-a393-483f-baaa-27afa135835d",
   "metadata": {},
   "source": [
    "### 2.1.1 Calculate the  grade point average (GPA)"
   ]
  },
  {
   "cell_type": "code",
   "execution_count": 5,
   "id": "d0140616-287d-4232-89ee-6289037a7fd8",
   "metadata": {},
   "outputs": [],
   "source": [
    "df['GPA'] = df[['math score', 'reading score', 'writing score']].mean(axis=1).round(2)\n",
    "df['Uni_GPA'] = np.where(df['GPA'] >= 60, 'Pass', 'Fail')\n",
    "df = df.drop(['math score','reading score','writing score','GPA'], axis=1)"
   ]
  },
  {
   "cell_type": "markdown",
   "id": "889b4ccd-e5cb-440c-b462-4cf6bd0f0e06",
   "metadata": {},
   "source": [
    "### 2.1.2. Clean up column names and variables"
   ]
  },
  {
   "cell_type": "code",
   "execution_count": 6,
   "id": "93b7d99c-af62-49de-bf3f-6627f2a97ffd",
   "metadata": {},
   "outputs": [],
   "source": [
    "df['race/ethnicity'] = df['race/ethnicity'].str.replace('group', 'ethnic_')\n",
    "df['parental level of education'] = df['parental level of education'].str.replace('degree', '')"
   ]
  },
  {
   "cell_type": "markdown",
   "id": "38909c0f-3dd9-4851-a537-e8d0a3deba09",
   "metadata": {},
   "source": [
    "### 2.2. Create dummy variables from categorical predictors"
   ]
  },
  {
   "cell_type": "markdown",
   "id": "d058aa0a-4743-47c7-ae75-d341c781622a",
   "metadata": {},
   "source": [
    "Create dummy variable columns for the `race/ethnicity`, `gender`, `parental level of education`, `lunch`, and `test preparation course` columns and assign them to variables. Add Pass/Fail column to the data frame and rename it to 'Result', similarly add male column and rename it 'sex' where 1 = male and 0 = female. Remove unnecessary columns from the data frame."
   ]
  },
  {
   "cell_type": "code",
   "execution_count": 7,
   "id": "bc5146e2-f977-41d5-a3ce-408b191c9f8c",
   "metadata": {},
   "outputs": [],
   "source": [
    "gender_data = pd.get_dummies(df['gender'], drop_first = True)\n",
    "ethnicity_data = pd.get_dummies(df['race/ethnicity'], drop_first = True)\n",
    "parentEd_data = pd.get_dummies(df['parental level of education'], drop_first = True)\n",
    "lunch_data = pd.get_dummies(df['lunch'], drop_first = True)\n",
    "prep_data = pd.get_dummies(df['test preparation course'], drop_first = True)\n",
    "Uni_GPA_data = pd.get_dummies(df['Uni_GPA'], drop_first = True)\n",
    "df = pd.concat([df, ethnicity_data,gender_data,parentEd_data,lunch_data,prep_data,Uni_GPA_data], axis = 1)\n",
    "df.rename(columns={'none': 'no_preparation','male': 'sex','standard': 'standard_lunch'}, inplace=True)\n",
    "df.drop(['gender','race/ethnicity','parental level of education','test preparation course','lunch','Uni_GPA'], axis = 1, inplace = True)"
   ]
  },
  {
   "cell_type": "code",
   "execution_count": 8,
   "id": "e335a807-0b2c-4de2-b835-b4af9a727894",
   "metadata": {},
   "outputs": [
    {
     "data": {
      "text/html": [
       "<div>\n",
       "<style scoped>\n",
       "    .dataframe tbody tr th:only-of-type {\n",
       "        vertical-align: middle;\n",
       "    }\n",
       "\n",
       "    .dataframe tbody tr th {\n",
       "        vertical-align: top;\n",
       "    }\n",
       "\n",
       "    .dataframe thead th {\n",
       "        text-align: right;\n",
       "    }\n",
       "</style>\n",
       "<table border=\"1\" class=\"dataframe\">\n",
       "  <thead>\n",
       "    <tr style=\"text-align: right;\">\n",
       "      <th></th>\n",
       "      <th>ethnic_ B</th>\n",
       "      <th>ethnic_ C</th>\n",
       "      <th>ethnic_ D</th>\n",
       "      <th>ethnic_ E</th>\n",
       "      <th>sex</th>\n",
       "      <th>bachelor's</th>\n",
       "      <th>high school</th>\n",
       "      <th>master's</th>\n",
       "      <th>some college</th>\n",
       "      <th>some high school</th>\n",
       "      <th>standard_lunch</th>\n",
       "      <th>no_preparation</th>\n",
       "      <th>Pass</th>\n",
       "    </tr>\n",
       "  </thead>\n",
       "  <tbody>\n",
       "    <tr>\n",
       "      <th>0</th>\n",
       "      <td>1</td>\n",
       "      <td>0</td>\n",
       "      <td>0</td>\n",
       "      <td>0</td>\n",
       "      <td>0</td>\n",
       "      <td>1</td>\n",
       "      <td>0</td>\n",
       "      <td>0</td>\n",
       "      <td>0</td>\n",
       "      <td>0</td>\n",
       "      <td>1</td>\n",
       "      <td>1</td>\n",
       "      <td>1</td>\n",
       "    </tr>\n",
       "    <tr>\n",
       "      <th>1</th>\n",
       "      <td>0</td>\n",
       "      <td>1</td>\n",
       "      <td>0</td>\n",
       "      <td>0</td>\n",
       "      <td>0</td>\n",
       "      <td>0</td>\n",
       "      <td>0</td>\n",
       "      <td>0</td>\n",
       "      <td>1</td>\n",
       "      <td>0</td>\n",
       "      <td>1</td>\n",
       "      <td>0</td>\n",
       "      <td>1</td>\n",
       "    </tr>\n",
       "    <tr>\n",
       "      <th>2</th>\n",
       "      <td>1</td>\n",
       "      <td>0</td>\n",
       "      <td>0</td>\n",
       "      <td>0</td>\n",
       "      <td>0</td>\n",
       "      <td>0</td>\n",
       "      <td>0</td>\n",
       "      <td>1</td>\n",
       "      <td>0</td>\n",
       "      <td>0</td>\n",
       "      <td>1</td>\n",
       "      <td>1</td>\n",
       "      <td>1</td>\n",
       "    </tr>\n",
       "    <tr>\n",
       "      <th>3</th>\n",
       "      <td>0</td>\n",
       "      <td>0</td>\n",
       "      <td>0</td>\n",
       "      <td>0</td>\n",
       "      <td>1</td>\n",
       "      <td>0</td>\n",
       "      <td>0</td>\n",
       "      <td>0</td>\n",
       "      <td>0</td>\n",
       "      <td>0</td>\n",
       "      <td>0</td>\n",
       "      <td>1</td>\n",
       "      <td>0</td>\n",
       "    </tr>\n",
       "    <tr>\n",
       "      <th>4</th>\n",
       "      <td>0</td>\n",
       "      <td>1</td>\n",
       "      <td>0</td>\n",
       "      <td>0</td>\n",
       "      <td>1</td>\n",
       "      <td>0</td>\n",
       "      <td>0</td>\n",
       "      <td>0</td>\n",
       "      <td>1</td>\n",
       "      <td>0</td>\n",
       "      <td>1</td>\n",
       "      <td>1</td>\n",
       "      <td>1</td>\n",
       "    </tr>\n",
       "  </tbody>\n",
       "</table>\n",
       "</div>"
      ],
      "text/plain": [
       "   ethnic_ B  ethnic_ C  ethnic_ D  ethnic_ E  sex  bachelor's   high school  \\\n",
       "0          1          0          0          0    0            1            0   \n",
       "1          0          1          0          0    0            0            0   \n",
       "2          1          0          0          0    0            0            0   \n",
       "3          0          0          0          0    1            0            0   \n",
       "4          0          1          0          0    1            0            0   \n",
       "\n",
       "   master's   some college  some high school  standard_lunch  no_preparation  \\\n",
       "0          0             0                 0               1               1   \n",
       "1          0             1                 0               1               0   \n",
       "2          1             0                 0               1               1   \n",
       "3          0             0                 0               0               1   \n",
       "4          0             1                 0               1               1   \n",
       "\n",
       "   Pass  \n",
       "0     1  \n",
       "1     1  \n",
       "2     1  \n",
       "3     0  \n",
       "4     1  "
      ]
     },
     "execution_count": 8,
     "metadata": {},
     "output_type": "execute_result"
    }
   ],
   "source": [
    "df.head()"
   ]
  },
  {
   "cell_type": "markdown",
   "id": "6d844d6e-6bcc-418d-928c-0fa59cbc6c81",
   "metadata": {},
   "source": [
    " ### 2.3. Understanding the values in the variables from categorical predictors\n",
    "\n",
    "**Note:** Only added one dummy variable less than the total number of dummy variables for the predictor. For example the `lunch` variable `standard_lunch` and not both, `standard_lunch`  and `free/reduced_lunch` was added to the data frame. \n",
    "\n",
    "One dummy variable is dropped to avoid perfect collinearity as every student in the data set either had a `standard lunch` or a `free/reduced lunch`. The regression intercept captures the effect of a student having the free/reduced lunch. Specifically, the estimated value of the regression intercept in the trained model is the estimated mean effect of all students who had the `free/reduced lunch`.\n",
    "\n",
    "Source: https://timeseriesreasoning.com/contents/dummy-variables-in-a-regression-model/\n",
    "\n",
    "\n",
    "The dataset has thirteen columns. Twelve - `ethnic_ B to ethnic_ E ` (4 ethnicity columns),  `bachelor's`, `high school`,  `master's`,  `some college`, `some high school`,(5 parents education columns), `Lunch`, `preparation` and  `sex` - are the predictors (or independent variables), while - `Pass` - is the response (or dependent variable).\n",
    "\n",
    "The objective is to train a logistic regression model to predict whether a student will get into the country's more prestigious universities  based on a GPA of 60% or more based on their `ethnicity`, `sex`, `parents education`, whether they had the `standard or free lunch` at school and whether the student took any `exam preparation courses`. \n",
    "  \n",
    "In `Pass`  **0** represents <span style=\"color:red\">**fail**</span> and **1** represents <span style=\"color:green\">**pass**.</span>  \n",
    "\n",
    "In `sex`  **0** represents <span style=\"color:green\">**female**</span> and **1** represents <span style=\"color:red\">**male**.</span>\n",
    "\n",
    "In `Lunch`  **0** represents <span style=\"color:green\">**student had the free/reduced lunch**</span> and **1** represents <span style=\"color:red\">**standard lunch**.</span>\n",
    "\n",
    "In `preparation`  **0** represents <span style=\"color:green\">**completed exam preperations course**</span> and **1** represents <span style=\"color:red\">**none - no preperation course taken**.</span>\n",
    "\n",
    "In `ethnic_B` to  `ethnic_E` (4 columns) **1** represents <span style=\"color:green\">**belongs to this ethnic group**</span> and **1** represents <span style=\"color:red\">**does NOT belong to this group**.</span>\n",
    "\n",
    "In parents education `bachelor's` to  `some high school` (5 columns) **1** represents <span style=\"color:green\">**parents have this education level**</span> and **1** represents <span style=\"color:red\">** does NOT apply**.</span>"
   ]
  },
  {
   "cell_type": "markdown",
   "id": "3b894ba8-570d-4151-964f-8a0be574b3f7",
   "metadata": {},
   "source": [
    "## 2. Explore the Data\n",
    "  \n",
    "A concise summary data structure by calling the `info()` method."
   ]
  },
  {
   "cell_type": "code",
   "execution_count": 9,
   "id": "fcdbf5c3-a181-44a5-9190-bc814e32ee37",
   "metadata": {},
   "outputs": [
    {
     "name": "stdout",
     "output_type": "stream",
     "text": [
      "<class 'pandas.core.frame.DataFrame'>\n",
      "RangeIndex: 1000 entries, 0 to 999\n",
      "Data columns (total 13 columns):\n",
      " #   Column            Non-Null Count  Dtype\n",
      "---  ------            --------------  -----\n",
      " 0   ethnic_ B         1000 non-null   uint8\n",
      " 1   ethnic_ C         1000 non-null   uint8\n",
      " 2   ethnic_ D         1000 non-null   uint8\n",
      " 3   ethnic_ E         1000 non-null   uint8\n",
      " 4   sex               1000 non-null   uint8\n",
      " 5   bachelor's        1000 non-null   uint8\n",
      " 6   high school       1000 non-null   uint8\n",
      " 7   master's          1000 non-null   uint8\n",
      " 8   some college      1000 non-null   uint8\n",
      " 9   some high school  1000 non-null   uint8\n",
      " 10  standard_lunch    1000 non-null   uint8\n",
      " 11  no_preparation    1000 non-null   uint8\n",
      " 12  Pass              1000 non-null   uint8\n",
      "dtypes: uint8(13)\n",
      "memory usage: 12.8 KB\n"
     ]
    }
   ],
   "source": [
    "df.info()"
   ]
  },
  {
   "cell_type": "markdown",
   "id": "91755e17-e409-4816-b39e-8d9800729b36",
   "metadata": {},
   "source": [
    "There are 1,000 instances (or rows) in the dataset.\n",
    "\n",
    "The dataset consists of 13 features (or columns) representing 5 predictor variables and 1 response variable. \n",
    "\n",
    "Summary statistics for the numeric features in the data by calling the describe() method."
   ]
  },
  {
   "cell_type": "code",
   "execution_count": 10,
   "id": "b781fa1e-e962-4c43-901b-3a3d7bc71659",
   "metadata": {},
   "outputs": [
    {
     "data": {
      "text/html": [
       "<div>\n",
       "<style scoped>\n",
       "    .dataframe tbody tr th:only-of-type {\n",
       "        vertical-align: middle;\n",
       "    }\n",
       "\n",
       "    .dataframe tbody tr th {\n",
       "        vertical-align: top;\n",
       "    }\n",
       "\n",
       "    .dataframe thead th {\n",
       "        text-align: right;\n",
       "    }\n",
       "</style>\n",
       "<table border=\"1\" class=\"dataframe\">\n",
       "  <thead>\n",
       "    <tr style=\"text-align: right;\">\n",
       "      <th></th>\n",
       "      <th>ethnic_ B</th>\n",
       "      <th>ethnic_ C</th>\n",
       "      <th>ethnic_ D</th>\n",
       "      <th>ethnic_ E</th>\n",
       "      <th>sex</th>\n",
       "      <th>bachelor's</th>\n",
       "      <th>high school</th>\n",
       "      <th>master's</th>\n",
       "      <th>some college</th>\n",
       "      <th>some high school</th>\n",
       "      <th>standard_lunch</th>\n",
       "      <th>no_preparation</th>\n",
       "      <th>Pass</th>\n",
       "    </tr>\n",
       "  </thead>\n",
       "  <tbody>\n",
       "    <tr>\n",
       "      <th>count</th>\n",
       "      <td>1000.000000</td>\n",
       "      <td>1000.000000</td>\n",
       "      <td>1000.000000</td>\n",
       "      <td>1000.000000</td>\n",
       "      <td>1000.000000</td>\n",
       "      <td>1000.00000</td>\n",
       "      <td>1000.000000</td>\n",
       "      <td>1000.000000</td>\n",
       "      <td>1000.000000</td>\n",
       "      <td>1000.000000</td>\n",
       "      <td>1000.000000</td>\n",
       "      <td>1000.000000</td>\n",
       "      <td>1000.00000</td>\n",
       "    </tr>\n",
       "    <tr>\n",
       "      <th>mean</th>\n",
       "      <td>0.190000</td>\n",
       "      <td>0.319000</td>\n",
       "      <td>0.262000</td>\n",
       "      <td>0.140000</td>\n",
       "      <td>0.482000</td>\n",
       "      <td>0.11800</td>\n",
       "      <td>0.196000</td>\n",
       "      <td>0.059000</td>\n",
       "      <td>0.226000</td>\n",
       "      <td>0.179000</td>\n",
       "      <td>0.645000</td>\n",
       "      <td>0.642000</td>\n",
       "      <td>0.71500</td>\n",
       "    </tr>\n",
       "    <tr>\n",
       "      <th>std</th>\n",
       "      <td>0.392497</td>\n",
       "      <td>0.466322</td>\n",
       "      <td>0.439943</td>\n",
       "      <td>0.347161</td>\n",
       "      <td>0.499926</td>\n",
       "      <td>0.32277</td>\n",
       "      <td>0.397167</td>\n",
       "      <td>0.235743</td>\n",
       "      <td>0.418448</td>\n",
       "      <td>0.383544</td>\n",
       "      <td>0.478753</td>\n",
       "      <td>0.479652</td>\n",
       "      <td>0.45164</td>\n",
       "    </tr>\n",
       "    <tr>\n",
       "      <th>min</th>\n",
       "      <td>0.000000</td>\n",
       "      <td>0.000000</td>\n",
       "      <td>0.000000</td>\n",
       "      <td>0.000000</td>\n",
       "      <td>0.000000</td>\n",
       "      <td>0.00000</td>\n",
       "      <td>0.000000</td>\n",
       "      <td>0.000000</td>\n",
       "      <td>0.000000</td>\n",
       "      <td>0.000000</td>\n",
       "      <td>0.000000</td>\n",
       "      <td>0.000000</td>\n",
       "      <td>0.00000</td>\n",
       "    </tr>\n",
       "    <tr>\n",
       "      <th>25%</th>\n",
       "      <td>0.000000</td>\n",
       "      <td>0.000000</td>\n",
       "      <td>0.000000</td>\n",
       "      <td>0.000000</td>\n",
       "      <td>0.000000</td>\n",
       "      <td>0.00000</td>\n",
       "      <td>0.000000</td>\n",
       "      <td>0.000000</td>\n",
       "      <td>0.000000</td>\n",
       "      <td>0.000000</td>\n",
       "      <td>0.000000</td>\n",
       "      <td>0.000000</td>\n",
       "      <td>0.00000</td>\n",
       "    </tr>\n",
       "    <tr>\n",
       "      <th>50%</th>\n",
       "      <td>0.000000</td>\n",
       "      <td>0.000000</td>\n",
       "      <td>0.000000</td>\n",
       "      <td>0.000000</td>\n",
       "      <td>0.000000</td>\n",
       "      <td>0.00000</td>\n",
       "      <td>0.000000</td>\n",
       "      <td>0.000000</td>\n",
       "      <td>0.000000</td>\n",
       "      <td>0.000000</td>\n",
       "      <td>1.000000</td>\n",
       "      <td>1.000000</td>\n",
       "      <td>1.00000</td>\n",
       "    </tr>\n",
       "    <tr>\n",
       "      <th>75%</th>\n",
       "      <td>0.000000</td>\n",
       "      <td>1.000000</td>\n",
       "      <td>1.000000</td>\n",
       "      <td>0.000000</td>\n",
       "      <td>1.000000</td>\n",
       "      <td>0.00000</td>\n",
       "      <td>0.000000</td>\n",
       "      <td>0.000000</td>\n",
       "      <td>0.000000</td>\n",
       "      <td>0.000000</td>\n",
       "      <td>1.000000</td>\n",
       "      <td>1.000000</td>\n",
       "      <td>1.00000</td>\n",
       "    </tr>\n",
       "    <tr>\n",
       "      <th>max</th>\n",
       "      <td>1.000000</td>\n",
       "      <td>1.000000</td>\n",
       "      <td>1.000000</td>\n",
       "      <td>1.000000</td>\n",
       "      <td>1.000000</td>\n",
       "      <td>1.00000</td>\n",
       "      <td>1.000000</td>\n",
       "      <td>1.000000</td>\n",
       "      <td>1.000000</td>\n",
       "      <td>1.000000</td>\n",
       "      <td>1.000000</td>\n",
       "      <td>1.000000</td>\n",
       "      <td>1.00000</td>\n",
       "    </tr>\n",
       "  </tbody>\n",
       "</table>\n",
       "</div>"
      ],
      "text/plain": [
       "         ethnic_ B    ethnic_ C    ethnic_ D    ethnic_ E          sex  \\\n",
       "count  1000.000000  1000.000000  1000.000000  1000.000000  1000.000000   \n",
       "mean      0.190000     0.319000     0.262000     0.140000     0.482000   \n",
       "std       0.392497     0.466322     0.439943     0.347161     0.499926   \n",
       "min       0.000000     0.000000     0.000000     0.000000     0.000000   \n",
       "25%       0.000000     0.000000     0.000000     0.000000     0.000000   \n",
       "50%       0.000000     0.000000     0.000000     0.000000     0.000000   \n",
       "75%       0.000000     1.000000     1.000000     0.000000     1.000000   \n",
       "max       1.000000     1.000000     1.000000     1.000000     1.000000   \n",
       "\n",
       "       bachelor's   high school    master's   some college  some high school  \\\n",
       "count   1000.00000  1000.000000  1000.000000   1000.000000       1000.000000   \n",
       "mean       0.11800     0.196000     0.059000      0.226000          0.179000   \n",
       "std        0.32277     0.397167     0.235743      0.418448          0.383544   \n",
       "min        0.00000     0.000000     0.000000      0.000000          0.000000   \n",
       "25%        0.00000     0.000000     0.000000      0.000000          0.000000   \n",
       "50%        0.00000     0.000000     0.000000      0.000000          0.000000   \n",
       "75%        0.00000     0.000000     0.000000      0.000000          0.000000   \n",
       "max        1.00000     1.000000     1.000000      1.000000          1.000000   \n",
       "\n",
       "       standard_lunch  no_preparation        Pass  \n",
       "count     1000.000000     1000.000000  1000.00000  \n",
       "mean         0.645000        0.642000     0.71500  \n",
       "std          0.478753        0.479652     0.45164  \n",
       "min          0.000000        0.000000     0.00000  \n",
       "25%          0.000000        0.000000     0.00000  \n",
       "50%          1.000000        1.000000     1.00000  \n",
       "75%          1.000000        1.000000     1.00000  \n",
       "max          1.000000        1.000000     1.00000  "
      ]
     },
     "execution_count": 10,
     "metadata": {},
     "output_type": "execute_result"
    }
   ],
   "source": [
    "df.describe()"
   ]
  },
  {
   "cell_type": "markdown",
   "id": "27fae03e-220a-4c01-b339-a32883225f4b",
   "metadata": {},
   "source": [
    "### 2.1. Exam preperation vs pass rate"
   ]
  },
  {
   "cell_type": "code",
   "execution_count": 11,
   "id": "c94e4f8d-c51b-437c-8b33-f1c05d21252a",
   "metadata": {},
   "outputs": [
    {
     "data": {
      "image/png": "[encoded data removed]",
      "text/plain": [
       "<Figure size 800x600 with 1 Axes>"
      ]
     },
     "metadata": {},
     "output_type": "display_data"
    }
   ],
   "source": [
    "ax = sns.countplot(x ='Pass', data = df,hue = 'no_preparation');\n",
    "plt.legend(title='Exam preperation', loc='upper left', labels=['Preperation', 'No preperation'])\n",
    "for i in ax.containers:\n",
    "    ax.bar_label(i,)"
   ]
  },
  {
   "cell_type": "markdown",
   "id": "324911fe-4396-4e64-942c-6ff2475b55bc",
   "metadata": {},
   "source": [
    "**Pass:**  \n",
    "0 = failure (less than 60%)  \n",
    "1 = Success (60% or more)   "
   ]
  },
  {
   "cell_type": "markdown",
   "id": "4a3ca4b7-7e6b-4d2d-9aca-085b73151359",
   "metadata": {},
   "source": [
    "**Note on how to add labels to multiple bars using the ax.bar_label function with a \"for\" loop**\n",
    "sns.countplot method will return a list of sub methods.  \n",
    "Use the containers method to access the text label of each bar by passing it through the ax.bar_label function.  \n",
    "Use a “for” loop to iterate through the list of labels and assign each bar to a different label. \n",
    "Below is the \"for\" loop\n",
    "\n",
    "<span style=\"color:green\">\n",
    "for i in ax.containers:    \n",
    "    \n",
    "ax.bar_label(i,)  \n",
    "</span>\n"
   ]
  },
  {
   "cell_type": "markdown",
   "id": "498d6dd8-311b-4af0-9f3d-791d901ea946",
   "metadata": {},
   "source": [
    "### 2.2. Exam pass rate by gender"
   ]
  },
  {
   "cell_type": "code",
   "execution_count": 12,
   "id": "a13a6c97-fb49-4967-81db-6b4c7f111a74",
   "metadata": {},
   "outputs": [
    {
     "data": {
      "image/png": "[encoded data removed]",
      "text/plain": [
       "<Figure size 800x600 with 1 Axes>"
      ]
     },
     "metadata": {},
     "output_type": "display_data"
    }
   ],
   "source": [
    "ax = sns.countplot(x ='Pass', data = df,hue = 'sex');\n",
    "plt.legend(title='Gender', loc='upper left', labels=['Female', 'Male'])\n",
    "for i in ax.containers:\n",
    "    ax.bar_label(i,)"
   ]
  },
  {
   "cell_type": "markdown",
   "id": "6b6ebf67-cfdf-43d0-a388-f9a14b2fc809",
   "metadata": {},
   "source": [
    "**Pass:**  \n",
    "0 = failure (less than 60%)  \n",
    "1 = Success (60% or more)   "
   ]
  },
  {
   "cell_type": "markdown",
   "id": "f8d48f7e-5836-458d-bdd5-34c5896a098d",
   "metadata": {},
   "source": [
    "### 2.3. School lunch vs pass rate"
   ]
  },
  {
   "cell_type": "code",
   "execution_count": 13,
   "id": "4253d0c8-770f-46d3-8dc7-47a85d4a7007",
   "metadata": {},
   "outputs": [
    {
     "data": {
      "image/png": "[encoded data removed]",
      "text/plain": [
       "<Figure size 800x600 with 1 Axes>"
      ]
     },
     "metadata": {},
     "output_type": "display_data"
    }
   ],
   "source": [
    "ax = sns.countplot(x ='Pass', data = df,hue = 'standard_lunch');\n",
    "plt.legend(title='Lunch', loc='upper left', labels=['free/reduced', 'standard'])\n",
    "for i in ax.containers:\n",
    "    ax.bar_label(i,)"
   ]
  },
  {
   "cell_type": "markdown",
   "id": "8e8e3e41-810d-4cc3-8f12-e2c9dfa90f79",
   "metadata": {},
   "source": [
    "**Pass:**  \n",
    "0 = failure (less than 60%)  \n",
    "1 = Success (60% or more)   "
   ]
  },
  {
   "cell_type": "markdown",
   "id": "e366a90d-0e46-486a-9904-a393a30a70a4",
   "metadata": {},
   "source": [
    "## 3. Prepare the Data for the data model"
   ]
  },
  {
   "cell_type": "markdown",
   "id": "7cba7eaf-d9a3-43b5-8f19-3136f73ef80b",
   "metadata": {},
   "source": [
    "#### Stage 1: separate the dependent variable\n",
    "Separate the dependent variable 'y' from the independent variables. \n",
    "\n",
    "Create a pandas series `y` for the dependent variable."
   ]
  },
  {
   "cell_type": "code",
   "execution_count": 14,
   "id": "f8ebb357-d04a-4abc-8a9b-78f3973f2247",
   "metadata": {},
   "outputs": [
    {
     "data": {
      "text/plain": [
       "0    1\n",
       "1    1\n",
       "2    1\n",
       "3    0\n",
       "4    1\n",
       "Name: Pass, dtype: uint8"
      ]
     },
     "execution_count": 14,
     "metadata": {},
     "output_type": "execute_result"
    }
   ],
   "source": [
    "y = df['Pass'] #in variable 'y' save the column ['Pass'] = response/dependent variable (categorial)\n",
    "y.head()"
   ]
  },
  {
   "cell_type": "markdown",
   "id": "3f2a200f-d201-4ae4-b0a7-933ba2875d13",
   "metadata": {},
   "source": [
    "Then create a pandas DataFrame called `x` for the independent variables. In this study simply  drop the `y` [Pass] from the data frame"
   ]
  },
  {
   "cell_type": "code",
   "execution_count": 15,
   "id": "0d10dd71-c69d-407f-9e92-a692c391e97b",
   "metadata": {},
   "outputs": [
    {
     "data": {
      "text/html": [
       "<div>\n",
       "<style scoped>\n",
       "    .dataframe tbody tr th:only-of-type {\n",
       "        vertical-align: middle;\n",
       "    }\n",
       "\n",
       "    .dataframe tbody tr th {\n",
       "        vertical-align: top;\n",
       "    }\n",
       "\n",
       "    .dataframe thead th {\n",
       "        text-align: right;\n",
       "    }\n",
       "</style>\n",
       "<table border=\"1\" class=\"dataframe\">\n",
       "  <thead>\n",
       "    <tr style=\"text-align: right;\">\n",
       "      <th></th>\n",
       "      <th>ethnic_ B</th>\n",
       "      <th>ethnic_ C</th>\n",
       "      <th>ethnic_ D</th>\n",
       "      <th>ethnic_ E</th>\n",
       "      <th>sex</th>\n",
       "      <th>bachelor's</th>\n",
       "      <th>high school</th>\n",
       "      <th>master's</th>\n",
       "      <th>some college</th>\n",
       "      <th>some high school</th>\n",
       "      <th>standard_lunch</th>\n",
       "      <th>no_preparation</th>\n",
       "    </tr>\n",
       "  </thead>\n",
       "  <tbody>\n",
       "    <tr>\n",
       "      <th>0</th>\n",
       "      <td>1</td>\n",
       "      <td>0</td>\n",
       "      <td>0</td>\n",
       "      <td>0</td>\n",
       "      <td>0</td>\n",
       "      <td>1</td>\n",
       "      <td>0</td>\n",
       "      <td>0</td>\n",
       "      <td>0</td>\n",
       "      <td>0</td>\n",
       "      <td>1</td>\n",
       "      <td>1</td>\n",
       "    </tr>\n",
       "    <tr>\n",
       "      <th>1</th>\n",
       "      <td>0</td>\n",
       "      <td>1</td>\n",
       "      <td>0</td>\n",
       "      <td>0</td>\n",
       "      <td>0</td>\n",
       "      <td>0</td>\n",
       "      <td>0</td>\n",
       "      <td>0</td>\n",
       "      <td>1</td>\n",
       "      <td>0</td>\n",
       "      <td>1</td>\n",
       "      <td>0</td>\n",
       "    </tr>\n",
       "    <tr>\n",
       "      <th>2</th>\n",
       "      <td>1</td>\n",
       "      <td>0</td>\n",
       "      <td>0</td>\n",
       "      <td>0</td>\n",
       "      <td>0</td>\n",
       "      <td>0</td>\n",
       "      <td>0</td>\n",
       "      <td>1</td>\n",
       "      <td>0</td>\n",
       "      <td>0</td>\n",
       "      <td>1</td>\n",
       "      <td>1</td>\n",
       "    </tr>\n",
       "    <tr>\n",
       "      <th>3</th>\n",
       "      <td>0</td>\n",
       "      <td>0</td>\n",
       "      <td>0</td>\n",
       "      <td>0</td>\n",
       "      <td>1</td>\n",
       "      <td>0</td>\n",
       "      <td>0</td>\n",
       "      <td>0</td>\n",
       "      <td>0</td>\n",
       "      <td>0</td>\n",
       "      <td>0</td>\n",
       "      <td>1</td>\n",
       "    </tr>\n",
       "    <tr>\n",
       "      <th>4</th>\n",
       "      <td>0</td>\n",
       "      <td>1</td>\n",
       "      <td>0</td>\n",
       "      <td>0</td>\n",
       "      <td>1</td>\n",
       "      <td>0</td>\n",
       "      <td>0</td>\n",
       "      <td>0</td>\n",
       "      <td>1</td>\n",
       "      <td>0</td>\n",
       "      <td>1</td>\n",
       "      <td>1</td>\n",
       "    </tr>\n",
       "  </tbody>\n",
       "</table>\n",
       "</div>"
      ],
      "text/plain": [
       "   ethnic_ B  ethnic_ C  ethnic_ D  ethnic_ E  sex  bachelor's   high school  \\\n",
       "0          1          0          0          0    0            1            0   \n",
       "1          0          1          0          0    0            0            0   \n",
       "2          1          0          0          0    0            0            0   \n",
       "3          0          0          0          0    1            0            0   \n",
       "4          0          1          0          0    1            0            0   \n",
       "\n",
       "   master's   some college  some high school  standard_lunch  no_preparation  \n",
       "0          0             0                 0               1               1  \n",
       "1          0             1                 0               1               0  \n",
       "2          1             0                 0               1               1  \n",
       "3          0             0                 0               0               1  \n",
       "4          0             1                 0               1               1  "
      ]
     },
     "execution_count": 15,
     "metadata": {},
     "output_type": "execute_result"
    }
   ],
   "source": [
    "x = df.drop(['Pass'], axis  = 1)\n",
    "x.head()"
   ]
  },
  {
   "cell_type": "markdown",
   "id": "1a5c5565-79f5-462b-9542-06622abda0a8",
   "metadata": {},
   "source": [
    "#### Stage 2: split the data into training and test sets\n",
    "The  objective of this step is to split the data into training and test sets. The training set will be used to train the model, while the test set will be used to evaluate the model.  \n",
    "\n",
    "Next, import the `train_test_split()` function from the `sklearn.model_selection` subpackage. "
   ]
  },
  {
   "cell_type": "code",
   "execution_count": 16,
   "id": "37506c39-bbe3-486e-b6d9-e6daaf0ca20b",
   "metadata": {},
   "outputs": [],
   "source": [
    "from sklearn.model_selection import train_test_split"
   ]
  },
  {
   "cell_type": "markdown",
   "id": "71c133da-78b2-4ef4-a866-d71d5602f378",
   "metadata": {},
   "source": [
    "#### Stage 3: Setting up the train and test data\n",
    "\n",
    "Using the `train_test_split()` function, split `X` and `y` into `X_train`, `X_test`, `y_train` and `y_test`.\n",
    "\n",
    "Note that within the `train_test_split()` function, set:\n",
    "\n",
    "* `train_size` to `0.7`. This means we want $70\\%$ of the original data to be assigned to the training data while $30\\%$ is assigned to the test data. \n",
    "\n",
    "* Note that the default is 0.8 so that willl split the train at 80% and test at 20%\n",
    "\n",
    "* Stratified random sampling is used because there are fewer *No* defaults in the categorical data `loan_status`. This ensures  that the sampling refects the distribution in the categories in the test and train data sets. \n",
    "\n",
    "* `stratify` as `y`. split the data using a stratified random sampling approach based on the values of `y`(which is the `loan_status`data. \n",
    "\n",
    "* `random_state` to `123`, ensures same results every time the data is split. "
   ]
  },
  {
   "cell_type": "code",
   "execution_count": 17,
   "id": "a2d37e33-1d25-488b-9513-7441cdf4493b",
   "metadata": {},
   "outputs": [],
   "source": [
    "x_train, x_test, y_train, y_test = train_test_split(x,y,train_size = 0.7,stratify = y, random_state = 123)"
   ]
  },
  {
   "cell_type": "markdown",
   "id": "7e47d66a-bf26-4ba4-9207-de5bf82fdfa0",
   "metadata": {},
   "source": [
    "After the data is split, the newly created `X_train` and `X_test` data sets hold the independent variables for the training and test sets, respectively. While the `y_train` and `y_test` data sets hold the dependent variable for the training and test sets respectively."
   ]
  },
  {
   "cell_type": "code",
   "execution_count": 18,
   "id": "3acd9b21-53c9-4f86-8996-d70ba8306d5e",
   "metadata": {},
   "outputs": [
    {
     "data": {
      "text/plain": [
       "(700, 12)"
      ]
     },
     "execution_count": 18,
     "metadata": {},
     "output_type": "execute_result"
    }
   ],
   "source": [
    "x_train.shape # Note that you do not use .shape() but just .shape"
   ]
  },
  {
   "cell_type": "markdown",
   "id": "66d82b4d-6059-48f3-a093-e5bf7c4aec0a",
   "metadata": {},
   "source": [
    "The result is a tuple that holds the number of rows and columns in the `x_train` dataframe.  700 out of the  1,000 instances in the exams data were assigned to the training set."
   ]
  },
  {
   "cell_type": "code",
   "execution_count": 19,
   "id": "71d1fc16-28da-40dd-aad9-1eaceca40ef3",
   "metadata": {},
   "outputs": [
    {
     "data": {
      "text/plain": [
       "(300, 12)"
      ]
     },
     "execution_count": 19,
     "metadata": {},
     "output_type": "execute_result"
    }
   ],
   "source": [
    "x_test.shape"
   ]
  },
  {
   "cell_type": "markdown",
   "id": "778ee187-f5a4-432d-a256-9a0537b685b9",
   "metadata": {},
   "source": [
    "The result shows us that  300 out of the  1,000 instances in the exam data frame were assigned to the test set (neatly reflecting the 70/30% split)."
   ]
  },
  {
   "cell_type": "markdown",
   "id": "33d63d38-bf28-4166-b6f1-c041e51b13e0",
   "metadata": {},
   "source": [
    "## 4. Training the Logistic Regression Model\n",
    "\n",
    "Use the `LogisticRegression` class from the `sklearn.linear_model` subpackage to train the model."
   ]
  },
  {
   "cell_type": "code",
   "execution_count": 20,
   "id": "c1cc034c-ce71-409e-a7b3-00c3b5d094bb",
   "metadata": {},
   "outputs": [],
   "source": [
    "from sklearn.linear_model import LogisticRegression"
   ]
  },
  {
   "cell_type": "markdown",
   "id": "530f07f6-57ff-4bc1-8ee6-39116b41c13a",
   "metadata": {},
   "source": [
    "Create the model as a LogisticRegression object"
   ]
  },
  {
   "cell_type": "code",
   "execution_count": 21,
   "id": "89a7933d-6db0-485e-97e1-aa66bb197a46",
   "metadata": {},
   "outputs": [],
   "source": [
    "model = LogisticRegression()"
   ]
  },
  {
   "cell_type": "markdown",
   "id": "16025c22-97f5-4d1e-948f-7c635859fe53",
   "metadata": {},
   "source": [
    "Train the model using the fit method on the model by passing in the x_train and y_train variables.  \n",
    "\n",
    "Note: predict_proba(x)\n",
    "Probability estimates. The returned estimates for all classes are ordered by the label of classes. Returns the log-probability of the sample for each class in the model."
   ]
  },
  {
   "cell_type": "code",
   "execution_count": 22,
   "id": "59d9f0f2-e163-4382-8bd0-99f389f5f62a",
   "metadata": {},
   "outputs": [
    {
     "data": {
      "text/plain": [
       "array([[0.09936684, 0.90063316],\n",
       "       [0.13500635, 0.86499365],\n",
       "       [0.21957109, 0.78042891],\n",
       "       [0.13693943, 0.86306057],\n",
       "       [0.79572702, 0.20427298],\n",
       "       [0.1372689 , 0.8627311 ],\n",
       "       [0.71180396, 0.28819604],\n",
       "       [0.25035244, 0.74964756],\n",
       "       [0.45686615, 0.54313385],\n",
       "       [0.24773224, 0.75226776],\n",
       "       [0.16793762, 0.83206238],\n",
       "       [0.11713394, 0.88286606],\n",
       "       [0.21604832, 0.78395168],\n",
       "       [0.38057905, 0.61942095],\n",
       "       [0.13556962, 0.86443038],\n",
       "       [0.32121954, 0.67878046],\n",
       "       [0.14138242, 0.85861758],\n",
       "       [0.24074538, 0.75925462],\n",
       "       [0.18396322, 0.81603678],\n",
       "       [0.03360439, 0.96639561],\n",
       "       [0.07986045, 0.92013955],\n",
       "       [0.1860944 , 0.8139056 ],\n",
       "       [0.31068835, 0.68931165],\n",
       "       [0.32428195, 0.67571805],\n",
       "       [0.22704811, 0.77295189],\n",
       "       [0.3324364 , 0.6675636 ],\n",
       "       [0.28034952, 0.71965048],\n",
       "       [0.60099138, 0.39900862],\n",
       "       [0.16793762, 0.83206238],\n",
       "       [0.04759124, 0.95240876],\n",
       "       [0.22126593, 0.77873407],\n",
       "       [0.21327448, 0.78672552],\n",
       "       [0.31068835, 0.68931165],\n",
       "       [0.10280621, 0.89719379],\n",
       "       [0.36289479, 0.63710521],\n",
       "       [0.07369472, 0.92630528],\n",
       "       [0.32879498, 0.67120502],\n",
       "       [0.3335454 , 0.6664546 ],\n",
       "       [0.07958422, 0.92041578],\n",
       "       [0.60099138, 0.39900862],\n",
       "       [0.62078006, 0.37921994],\n",
       "       [0.26358156, 0.73641844],\n",
       "       [0.040599  , 0.959401  ],\n",
       "       [0.22704811, 0.77295189],\n",
       "       [0.15392557, 0.84607443],\n",
       "       [0.37348281, 0.62651719],\n",
       "       [0.12389353, 0.87610647],\n",
       "       [0.52611821, 0.47388179],\n",
       "       [0.14790432, 0.85209568],\n",
       "       [0.27242328, 0.72757672],\n",
       "       [0.15179489, 0.84820511],\n",
       "       [0.06725102, 0.93274898],\n",
       "       [0.62464579, 0.37535421],\n",
       "       [0.21002546, 0.78997454],\n",
       "       [0.10842959, 0.89157041],\n",
       "       [0.31448779, 0.68551221],\n",
       "       [0.33963751, 0.66036249],\n",
       "       [0.15575903, 0.84424097],\n",
       "       [0.52611821, 0.47388179],\n",
       "       [0.56556335, 0.43443665],\n",
       "       [0.33963751, 0.66036249],\n",
       "       [0.19963737, 0.80036263],\n",
       "       [0.10842959, 0.89157041],\n",
       "       [0.27689313, 0.72310687],\n",
       "       [0.48214   , 0.51786   ],\n",
       "       [0.05245874, 0.94754126],\n",
       "       [0.56556335, 0.43443665],\n",
       "       [0.04903483, 0.95096517],\n",
       "       [0.17164383, 0.82835617],\n",
       "       [0.3671106 , 0.6328894 ],\n",
       "       [0.16239133, 0.83760867],\n",
       "       [0.23536627, 0.76463373],\n",
       "       [0.03196025, 0.96803975],\n",
       "       [0.15392557, 0.84607443],\n",
       "       [0.26313131, 0.73686869],\n",
       "       [0.28291671, 0.71708329],\n",
       "       [0.15962115, 0.84037885],\n",
       "       [0.15138171, 0.84861829],\n",
       "       [0.19903646, 0.80096354],\n",
       "       [0.13025639, 0.86974361],\n",
       "       [0.24268281, 0.75731719],\n",
       "       [0.21789578, 0.78210422],\n",
       "       [0.21327448, 0.78672552],\n",
       "       [0.19415991, 0.80584009],\n",
       "       [0.21002546, 0.78997454],\n",
       "       [0.30717608, 0.69282392],\n",
       "       [0.07986045, 0.92013955],\n",
       "       [0.17164383, 0.82835617],\n",
       "       [0.39316172, 0.60683828],\n",
       "       [0.41312313, 0.58687687],\n",
       "       [0.06319652, 0.93680348],\n",
       "       [0.29339788, 0.70660212],\n",
       "       [0.07986045, 0.92013955],\n",
       "       [0.20616188, 0.79383812],\n",
       "       [0.11052017, 0.88947983],\n",
       "       [0.30526849, 0.69473151],\n",
       "       [0.11042809, 0.88957191],\n",
       "       [0.46219213, 0.53780787],\n",
       "       [0.4331306 , 0.5668694 ],\n",
       "       [0.07369472, 0.92630528],\n",
       "       [0.1372689 , 0.8627311 ],\n",
       "       [0.03360439, 0.96639561],\n",
       "       [0.21327448, 0.78672552],\n",
       "       [0.1860944 , 0.8139056 ],\n",
       "       [0.05245874, 0.94754126],\n",
       "       [0.60099138, 0.39900862],\n",
       "       [0.44951709, 0.55048291],\n",
       "       [0.27242328, 0.72757672],\n",
       "       [0.09839767, 0.90160233],\n",
       "       [0.24773224, 0.75226776],\n",
       "       [0.31068835, 0.68931165],\n",
       "       [0.3324364 , 0.6675636 ],\n",
       "       [0.39709427, 0.60290573],\n",
       "       [0.14790432, 0.85209568],\n",
       "       [0.15962115, 0.84037885],\n",
       "       [0.31068835, 0.68931165],\n",
       "       [0.28034952, 0.71965048],\n",
       "       [0.70170526, 0.29829474],\n",
       "       [0.47532039, 0.52467961],\n",
       "       [0.20167259, 0.79832741],\n",
       "       [0.30090092, 0.69909908],\n",
       "       [0.15138171, 0.84861829],\n",
       "       [0.65302927, 0.34697073],\n",
       "       [0.18319796, 0.81680204],\n",
       "       [0.07958422, 0.92041578],\n",
       "       [0.11936987, 0.88063013],\n",
       "       [0.35494917, 0.64505083],\n",
       "       [0.56556335, 0.43443665],\n",
       "       [0.67247698, 0.32752302],\n",
       "       [0.1860944 , 0.8139056 ],\n",
       "       [0.09085546, 0.90914454],\n",
       "       [0.42498577, 0.57501423],\n",
       "       [0.21327448, 0.78672552],\n",
       "       [0.06199323, 0.93800677],\n",
       "       [0.06319652, 0.93680348],\n",
       "       [0.13500635, 0.86499365],\n",
       "       [0.34333759, 0.65666241],\n",
       "       [0.36028689, 0.63971311],\n",
       "       [0.26503656, 0.73496344],\n",
       "       [0.43749069, 0.56250931],\n",
       "       [0.13500635, 0.86499365],\n",
       "       [0.22482893, 0.77517107],\n",
       "       [0.3324364 , 0.6675636 ],\n",
       "       [0.16385756, 0.83614244],\n",
       "       [0.60099138, 0.39900862],\n",
       "       [0.31448779, 0.68551221],\n",
       "       [0.28034952, 0.71965048],\n",
       "       [0.34713411, 0.65286589],\n",
       "       [0.48214   , 0.51786   ],\n",
       "       [0.02589072, 0.97410928],\n",
       "       [0.11936987, 0.88063013],\n",
       "       [0.14790432, 0.85209568],\n",
       "       [0.31068835, 0.68931165],\n",
       "       [0.40914019, 0.59085981],\n",
       "       [0.1860944 , 0.8139056 ],\n",
       "       [0.62464579, 0.37535421],\n",
       "       [0.22126593, 0.77873407],\n",
       "       [0.16464188, 0.83535812],\n",
       "       [0.15962115, 0.84037885],\n",
       "       [0.32879498, 0.67120502],\n",
       "       [0.1469851 , 0.8530149 ],\n",
       "       [0.12071022, 0.87928978],\n",
       "       [0.45010389, 0.54989611],\n",
       "       [0.28233167, 0.71766833],\n",
       "       [0.08837389, 0.91162611],\n",
       "       [0.41312313, 0.58687687],\n",
       "       [0.31175868, 0.68824132],\n",
       "       [0.20167259, 0.79832741],\n",
       "       [0.23536627, 0.76463373],\n",
       "       [0.70170526, 0.29829474],\n",
       "       [0.05695698, 0.94304302],\n",
       "       [0.28034952, 0.71965048],\n",
       "       [0.26313131, 0.73686869],\n",
       "       [0.19963737, 0.80036263],\n",
       "       [0.11936987, 0.88063013],\n",
       "       [0.56867845, 0.43132155],\n",
       "       [0.36670754, 0.63329246],\n",
       "       [0.28856082, 0.71143918],\n",
       "       [0.45367655, 0.54632345],\n",
       "       [0.08666141, 0.91333859],\n",
       "       [0.37348281, 0.62651719],\n",
       "       [0.3671106 , 0.6328894 ],\n",
       "       [0.34333759, 0.65666241],\n",
       "       [0.26503656, 0.73496344],\n",
       "       [0.45686615, 0.54313385],\n",
       "       [0.56556335, 0.43443665],\n",
       "       [0.10410569, 0.89589431],\n",
       "       [0.1203294 , 0.8796706 ],\n",
       "       [0.20335504, 0.79664496],\n",
       "       [0.16385756, 0.83614244],\n",
       "       [0.21604832, 0.78395168],\n",
       "       [0.1860944 , 0.8139056 ],\n",
       "       [0.28034952, 0.71965048],\n",
       "       [0.13500635, 0.86499365],\n",
       "       [0.08079786, 0.91920214],\n",
       "       [0.30090092, 0.69909908],\n",
       "       [0.26313131, 0.73686869],\n",
       "       [0.60099138, 0.39900862],\n",
       "       [0.31068835, 0.68931165],\n",
       "       [0.11713394, 0.88286606],\n",
       "       [0.1561256 , 0.8438744 ],\n",
       "       [0.31068835, 0.68931165],\n",
       "       [0.15962115, 0.84037885],\n",
       "       [0.28034952, 0.71965048],\n",
       "       [0.24773224, 0.75226776],\n",
       "       [0.28034952, 0.71965048],\n",
       "       [0.38827977, 0.61172023],\n",
       "       [0.34333759, 0.65666241],\n",
       "       [0.37809604, 0.62190396],\n",
       "       [0.07986045, 0.92013955],\n",
       "       [0.31448779, 0.68551221],\n",
       "       [0.26313131, 0.73686869],\n",
       "       [0.70170526, 0.29829474],\n",
       "       [0.15138171, 0.84861829],\n",
       "       [0.28034952, 0.71965048],\n",
       "       [0.32879498, 0.67120502],\n",
       "       [0.20167259, 0.79832741],\n",
       "       [0.44951709, 0.55048291],\n",
       "       [0.37809604, 0.62190396],\n",
       "       [0.24773224, 0.75226776],\n",
       "       [0.62464579, 0.37535421],\n",
       "       [0.41312313, 0.58687687],\n",
       "       [0.3324364 , 0.6675636 ],\n",
       "       [0.2821884 , 0.7178116 ],\n",
       "       [0.26503656, 0.73496344],\n",
       "       [0.44951709, 0.55048291],\n",
       "       [0.19903646, 0.80096354],\n",
       "       [0.33963751, 0.66036249],\n",
       "       [0.1372689 , 0.8627311 ],\n",
       "       [0.15962115, 0.84037885],\n",
       "       [0.19903646, 0.80096354],\n",
       "       [0.17179106, 0.82820894],\n",
       "       [0.24773224, 0.75226776],\n",
       "       [0.46219213, 0.53780787],\n",
       "       [0.1203294 , 0.8796706 ],\n",
       "       [0.10410569, 0.89589431],\n",
       "       [0.29339788, 0.70660212],\n",
       "       [0.78769194, 0.21230806],\n",
       "       [0.71381087, 0.28618913],\n",
       "       [0.62078006, 0.37921994],\n",
       "       [0.16793762, 0.83206238],\n",
       "       [0.31175868, 0.68824132],\n",
       "       [0.17179106, 0.82820894],\n",
       "       [0.48705199, 0.51294801],\n",
       "       [0.18090453, 0.81909547],\n",
       "       [0.11713394, 0.88286606],\n",
       "       [0.12071022, 0.87928978],\n",
       "       [0.15179489, 0.84820511],\n",
       "       [0.26313131, 0.73686869],\n",
       "       [0.39709427, 0.60290573],\n",
       "       [0.21327448, 0.78672552],\n",
       "       [0.12389353, 0.87610647],\n",
       "       [0.26503656, 0.73496344],\n",
       "       [0.2821884 , 0.7178116 ],\n",
       "       [0.06725102, 0.93274898],\n",
       "       [0.07369472, 0.92630528],\n",
       "       [0.28034952, 0.71965048],\n",
       "       [0.06725102, 0.93274898],\n",
       "       [0.12906354, 0.87093646],\n",
       "       [0.11713394, 0.88286606],\n",
       "       [0.1372689 , 0.8627311 ],\n",
       "       [0.72214939, 0.27785061],\n",
       "       [0.19415991, 0.80584009],\n",
       "       [0.54407138, 0.45592862],\n",
       "       [0.56797053, 0.43202947],\n",
       "       [0.07958422, 0.92041578],\n",
       "       [0.71381087, 0.28618913],\n",
       "       [0.07369472, 0.92630528],\n",
       "       [0.29320366, 0.70679634],\n",
       "       [0.19903646, 0.80096354],\n",
       "       [0.22126593, 0.77873407],\n",
       "       [0.41312313, 0.58687687],\n",
       "       [0.11042809, 0.88957191],\n",
       "       [0.3324364 , 0.6675636 ],\n",
       "       [0.32121954, 0.67878046],\n",
       "       [0.52392095, 0.47607905],\n",
       "       [0.11052017, 0.88947983],\n",
       "       [0.19963737, 0.80036263],\n",
       "       [0.4331306 , 0.5668694 ],\n",
       "       [0.43749069, 0.56250931],\n",
       "       [0.62078006, 0.37921994],\n",
       "       [0.59487773, 0.40512227],\n",
       "       [0.19903646, 0.80096354],\n",
       "       [0.08837389, 0.91162611],\n",
       "       [0.3324364 , 0.6675636 ],\n",
       "       [0.21957109, 0.78042891],\n",
       "       [0.07986045, 0.92013955],\n",
       "       [0.1561256 , 0.8438744 ],\n",
       "       [0.79572702, 0.20427298],\n",
       "       [0.41312313, 0.58687687],\n",
       "       [0.54407138, 0.45592862],\n",
       "       [0.16464188, 0.83535812],\n",
       "       [0.37423485, 0.62576515],\n",
       "       [0.12613673, 0.87386327],\n",
       "       [0.15962115, 0.84037885],\n",
       "       [0.19963737, 0.80036263],\n",
       "       [0.19963737, 0.80036263],\n",
       "       [0.47942549, 0.52057451],\n",
       "       [0.47532039, 0.52467961],\n",
       "       [0.52392095, 0.47607905]])"
      ]
     },
     "execution_count": 22,
     "metadata": {},
     "output_type": "execute_result"
    }
   ],
   "source": [
    "model.fit(x_train, y_train).predict_proba(x_test)"
   ]
  },
  {
   "cell_type": "markdown",
   "id": "8f2813ec-d734-47f0-9e1b-8cb7627d851f",
   "metadata": {},
   "source": [
    "The model is trained and is ready to make predictions."
   ]
  },
  {
   "cell_type": "markdown",
   "id": "e1fa8e74-6b1a-4901-9ace-bf390211403f",
   "metadata": {},
   "source": [
    "## 5. Making Predictions With  Logistic Regression Model\n",
    "Make a set of predictions with the test data using the logistic regression model and store the predictions in a variable called predictions.\n",
    "There are 300 instances (or rows) in the test set. To predict labels for the test instances, pass the independent variables of the test set (X_test) to the predict() method of the model."
   ]
  },
  {
   "cell_type": "code",
   "execution_count": 23,
   "id": "75a581d9-0e1e-433c-929f-67cd839063d2",
   "metadata": {},
   "outputs": [],
   "source": [
    "predictions = model.predict(x_test)"
   ]
  },
  {
   "cell_type": "markdown",
   "id": "74b8f07d-6874-4650-bba9-4b5a7a7ffbe1",
   "metadata": {},
   "source": [
    "## 6. Measuring the Performance of a Logistic Regression Machine Learning Model"
   ]
  },
  {
   "cell_type": "markdown",
   "id": "fd502f62-3437-48e5-8aa4-1d7a128332ae",
   "metadata": {},
   "source": [
    "*scikit-learn* has an excellent built-in module called classification_report that simplifies measuring the performance of a classification model."
   ]
  },
  {
   "cell_type": "code",
   "execution_count": 24,
   "id": "b55a2217-ce5d-425f-86c9-0dcbba60cd29",
   "metadata": {},
   "outputs": [],
   "source": [
    "from sklearn.metrics import classification_report"
   ]
  },
  {
   "cell_type": "markdown",
   "id": "64aeaf60-bb0b-43c8-904e-17c8088df8fc",
   "metadata": {},
   "source": [
    "Use the classification report module to calculate the performance metrics for the logistic regression model"
   ]
  },
  {
   "cell_type": "code",
   "execution_count": 25,
   "id": "10f44c96-d1b7-4cc6-8791-f2da3ef59639",
   "metadata": {},
   "outputs": [
    {
     "name": "stdout",
     "output_type": "stream",
     "text": [
      "              precision    recall  f1-score   support\n",
      "\n",
      "           0       0.61      0.26      0.36        86\n",
      "           1       0.76      0.93      0.84       214\n",
      "\n",
      "    accuracy                           0.74       300\n",
      "   macro avg       0.68      0.60      0.60       300\n",
      "weighted avg       0.72      0.74      0.70       300\n",
      "\n"
     ]
    }
   ],
   "source": [
    "classification_report(y_test, predictions)\n",
    "print(classification_report(y_test, predictions))"
   ]
  },
  {
   "cell_type": "markdown",
   "id": "028223a8-034f-4959-8628-ca74a5949d7e",
   "metadata": {},
   "source": [
    "To evaluate how accurate the model is, pass the test data (`x_test` and `y_test`) to the `score() method` of the model.  "
   ]
  },
  {
   "cell_type": "code",
   "execution_count": 26,
   "id": "b58d998d-d713-44e0-b636-5383347746ad",
   "metadata": {},
   "outputs": [
    {
     "data": {
      "text/plain": [
       "0.74"
      ]
     },
     "execution_count": 26,
     "metadata": {},
     "output_type": "execute_result"
    }
   ],
   "source": [
    "model.score(x_test, y_test)"
   ]
  },
  {
   "cell_type": "markdown",
   "id": "62ff87fd-a7a7-4ab8-907e-14463076da14",
   "metadata": {},
   "source": [
    "The output 0.74 shows that the model is able to correctly predict 8 out of ten (or 74%) of the labels in the test set"
   ]
  },
  {
   "cell_type": "code",
   "execution_count": 27,
   "id": "3355e35c-0a93-4126-8747-8e8d85bd7b5b",
   "metadata": {},
   "outputs": [
    {
     "name": "stdout",
     "output_type": "stream",
     "text": [
      "Accuracy Score: 0.74\n",
      "Confusion Matrix: \n",
      "[[ 22  64]\n",
      " [ 14 200]]\n",
      "Area Under Curve: 0.5951966963703543\n",
      "Recall score: 0.9345794392523364\n"
     ]
    }
   ],
   "source": [
    "print(f'Accuracy Score: {accuracy_score(y_test,predictions)}')\n",
    "print(f'Confusion Matrix: \\n{confusion_matrix(y_test, predictions)}')\n",
    "print(f'Area Under Curve: {roc_auc_score(y_test, predictions)}')\n",
    "print(f'Recall score: {recall_score(y_test,predictions)}')"
   ]
  },
  {
   "cell_type": "markdown",
   "id": "90357dc2-da1e-4fd1-968f-15c5931e4189",
   "metadata": {},
   "source": [
    "### 6.1. Confusion Matrix\n",
    "\n",
    "The accuracy of a model only gives us a one-dimensional perspective of performance. To get a broader perspective, generate a confusion (or error) matrix of the model's performance. \n",
    "  \n",
    "The confusion matrix clarifies the model output which can be evaluated against the test data. Next step is to interpret the model and use the model coefficients.\n",
    "  \n",
    "Import the `confusion_matrix` function from the `sklearn.metrics` subpackage."
   ]
  },
  {
   "cell_type": "code",
   "execution_count": 28,
   "id": "7a12a882-6f13-46ea-960c-1a743b40e10d",
   "metadata": {},
   "outputs": [],
   "source": [
    "from sklearn.metrics import confusion_matrix\n",
    "from sklearn import metrics\n",
    "from sklearn.metrics import confusion_matrix, ConfusionMatrixDisplay"
   ]
  },
  {
   "cell_type": "markdown",
   "id": "2bbb90ab-05b8-4bb4-9b1e-84aeecc920ab",
   "metadata": {},
   "source": [
    "Pass the dependent variable from the test set (which are the actual labels) and the model's predicted labels to the `confusion_matrix()` function.\n",
    "\n",
    "1) The first argument to the confusion matrix is y_test which are the actual labels.\n",
    "2) The second argument to the confusion matrix is model.predict(x_test) which are the predicted labels \n",
    "3) The output is an array the array that we get is a 2 x 2 array that shows how many instances the model predicted correctly.\n",
    "4) The confusion matrix is shown in the image below which shows for the first tuple (row 1) 3 true negatives 1 false positive.\n",
    "5) For the seond tuple (row 2) 0 false negatives 5 true positives."
   ]
  },
  {
   "cell_type": "code",
   "execution_count": 29,
   "id": "4111ecd5-e214-48b5-b153-19666b2bdc4a",
   "metadata": {},
   "outputs": [
    {
     "data": {
      "text/plain": [
       "array([[ 22,  64],\n",
       "       [ 14, 200]], dtype=int64)"
      ]
     },
     "execution_count": 29,
     "metadata": {},
     "output_type": "execute_result"
    }
   ],
   "source": [
    "cm = confusion_matrix(y_test,predictions)\n",
    "cm"
   ]
  },
  {
   "attachments": {
    "8b94371a-d724-4fe0-861c-ddc42d029fb6.jpg": {
     "image/jpeg": "[encoded data removed]"
    }
   },
   "cell_type": "markdown",
   "id": "4bca9a92-b56d-4034-a48f-77cc08bdb028",
   "metadata": {},
   "source": [
    "The result is a $ 2\\times 2$ array that shows how many instances the model predicted correctly or incorrectly as either `Yes` or `No`. The confusion matrix is illustrated as follows:\n",
    "\n",
    "![Exam Confusion Matrix.jpg](attachment:8b94371a-d724-4fe0-861c-ddc42d029fb6.jpg)\n",
    "\n",
    "The first row of the matrix shows that of the $300$ instances, the model correctly predicted $22$ of them as `Yes` but incorrectly predicted $64$ as `Yes`when they should have been `No`. The second row of the matrix shows that of the $300$ instances the model correctly predicted $200$ as `No` but incorrectly predicted 14 false negatives.  \n",
    "\n",
    "Correct predictions:   200 + 22 = 222 <span style=\"color:green\">**(74% of predictions correct)**.</span>  \n",
    "\n",
    "Incorrect predictions: 64 + 14 =  78 <span style=\"color:red\">**(26% of predictions incorrect)**.</span>  \n",
    "\n",
    "Total Predictions:             = 300"
   ]
  },
  {
   "cell_type": "markdown",
   "id": "67d70ff3-4147-4002-8b7f-667b96f43c2b",
   "metadata": {},
   "source": [
    "### 6.2. Accuracy\n",
    "Accuracy measures how often the model is correct.  "
   ]
  },
  {
   "cell_type": "code",
   "execution_count": 30,
   "id": "2050a4c5-7750-457b-b6d5-bcec81798f12",
   "metadata": {},
   "outputs": [
    {
     "data": {
      "text/plain": [
       "0.74"
      ]
     },
     "execution_count": 30,
     "metadata": {},
     "output_type": "execute_result"
    }
   ],
   "source": [
    "Accuracy = metrics.accuracy_score(y_test,predictions)\n",
    "Accuracy"
   ]
  },
  {
   "cell_type": "markdown",
   "id": "64cd41dd-8145-4495-bd94-827f253361ef",
   "metadata": {},
   "source": [
    "Accuracy is 74%"
   ]
  },
  {
   "cell_type": "markdown",
   "id": "c37553fb-4f89-4172-9521-1889c92b480c",
   "metadata": {},
   "source": [
    "### 6.3. Precision\n",
    "Of the positives predicted, what percentage is truly positive  "
   ]
  },
  {
   "cell_type": "code",
   "execution_count": 31,
   "id": "dea3c462-a125-44b0-a630-2b27946964bf",
   "metadata": {},
   "outputs": [
    {
     "data": {
      "text/plain": [
       "0.7575757575757576"
      ]
     },
     "execution_count": 31,
     "metadata": {},
     "output_type": "execute_result"
    }
   ],
   "source": [
    "Precision = metrics.precision_score(y_test,predictions)\n",
    "Precision"
   ]
  },
  {
   "cell_type": "markdown",
   "id": "981365cf-c5ea-492d-99e2-bc0282a7af4e",
   "metadata": {},
   "source": [
    "Precision is 75%"
   ]
  },
  {
   "cell_type": "markdown",
   "id": "dfb1d977-23e3-459e-942b-614dd1e1b083",
   "metadata": {},
   "source": [
    "### 6.4. Sensitivity (Recall)\n",
    "Of all the positive instanes, what percentage are predicted positive?\n",
    "  \n",
    "Sensitivity (Recall) measures how the model is at predicting positives.\n",
    "  \n",
    "True Positive / (True Positive + False Negative)"
   ]
  },
  {
   "cell_type": "code",
   "execution_count": 32,
   "id": "d710b803-30e4-4377-b2c2-3b2ad5a75332",
   "metadata": {},
   "outputs": [
    {
     "data": {
      "text/plain": [
       "0.9345794392523364"
      ]
     },
     "execution_count": 32,
     "metadata": {},
     "output_type": "execute_result"
    }
   ],
   "source": [
    "Sensitivity = metrics.recall_score(y_test,predictions)\n",
    "Sensitivity"
   ]
  },
  {
   "cell_type": "markdown",
   "id": "a6b60d33-f78f-465e-aef7-471e6d7d1cab",
   "metadata": {},
   "source": [
    "  Sensitivity is 93%"
   ]
  },
  {
   "cell_type": "markdown",
   "id": "a0373763-c1de-4dcb-a043-c99d764edc83",
   "metadata": {},
   "source": [
    "### 6.5 Specificity\n",
    "Measures how good the model is at prediciting negative results (essentially the opposite of recall)\n",
    "\n",
    "True Negative / (True Negative + False Positive)"
   ]
  },
  {
   "cell_type": "code",
   "execution_count": 33,
   "id": "62344a6e-6a8d-44d2-baad-6b3acf7b9499",
   "metadata": {},
   "outputs": [
    {
     "data": {
      "text/plain": [
       "0.2558139534883721"
      ]
     },
     "execution_count": 33,
     "metadata": {},
     "output_type": "execute_result"
    }
   ],
   "source": [
    "Specificity = metrics.recall_score(y_test,predictions, pos_label=0)\n",
    "Specificity"
   ]
  },
  {
   "cell_type": "markdown",
   "id": "551780c2-a777-4cc5-9c33-7fd367ca20f3",
   "metadata": {},
   "source": [
    "Specificity is 26%"
   ]
  },
  {
   "cell_type": "markdown",
   "id": "99596904-f1ac-4628-8ab7-3c0468254e0a",
   "metadata": {
    "tags": []
   },
   "source": [
    "### 6.6. F-score\n",
    "F-score is the \"harmonic mean\" of precision and sensitivity.  \n",
    "\n",
    "Considers both false positive and false negative cases  \n",
    "  \n",
    "2 * ((Precision * Sensitivity) / (Precision + Sensitivity))  \n",
    "\n",
    "This score does not take into consideration the True Negative values."
   ]
  },
  {
   "cell_type": "code",
   "execution_count": 34,
   "id": "56353b8a-c43e-41de-aae0-2cc328317b56",
   "metadata": {},
   "outputs": [
    {
     "data": {
      "text/plain": [
       "0.8368200836820084"
      ]
     },
     "execution_count": 34,
     "metadata": {},
     "output_type": "execute_result"
    }
   ],
   "source": [
    "F1_score = metrics.f1_score(y_test,predictions)\n",
    "F1_score"
   ]
  },
  {
   "cell_type": "markdown",
   "id": "e06d5ae9-f098-4641-8801-ea55a817fa64",
   "metadata": {},
   "source": [
    "F1_score = 84%"
   ]
  },
  {
   "cell_type": "code",
   "execution_count": 35,
   "id": "a1732c13-44cd-4643-af2a-21b0e147621c",
   "metadata": {},
   "outputs": [
    {
     "data": {
      "image/png": "[encoded data removed]",
      "text/plain": [
       "<Figure size 800x600 with 2 Axes>"
      ]
     },
     "metadata": {},
     "output_type": "display_data"
    }
   ],
   "source": [
    "# Plot the confusion matrix\n",
    "disp = ConfusionMatrixDisplay(confusion_matrix=cm)\n",
    "disp.plot(cmap=plt.cm.Blues)\n",
    "plt.title('Confusion Matrix')\n",
    "plt.show()"
   ]
  },
  {
   "cell_type": "markdown",
   "id": "266aa861-49ec-443c-bbfa-1c32801dd897",
   "metadata": {},
   "source": [
    "### 6.7. Variables and the coefficients"
   ]
  },
  {
   "cell_type": "code",
   "execution_count": 36,
   "id": "2957ec2c-2e00-4bd0-a7ac-8c4733660424",
   "metadata": {},
   "outputs": [
    {
     "data": {
      "text/html": [
       "<div>\n",
       "<style scoped>\n",
       "    .dataframe tbody tr th:only-of-type {\n",
       "        vertical-align: middle;\n",
       "    }\n",
       "\n",
       "    .dataframe tbody tr th {\n",
       "        vertical-align: top;\n",
       "    }\n",
       "\n",
       "    .dataframe thead th {\n",
       "        text-align: right;\n",
       "    }\n",
       "</style>\n",
       "<table border=\"1\" class=\"dataframe\">\n",
       "  <thead>\n",
       "    <tr style=\"text-align: right;\">\n",
       "      <th></th>\n",
       "      <th>features</th>\n",
       "      <th>coef</th>\n",
       "    </tr>\n",
       "  </thead>\n",
       "  <tbody>\n",
       "    <tr>\n",
       "      <th>0</th>\n",
       "      <td>ethnic_ B</td>\n",
       "      <td>[0.3559202667360948]</td>\n",
       "    </tr>\n",
       "    <tr>\n",
       "      <th>1</th>\n",
       "      <td>ethnic_ C</td>\n",
       "      <td>[0.4556373474102654]</td>\n",
       "    </tr>\n",
       "    <tr>\n",
       "      <th>2</th>\n",
       "      <td>ethnic_ D</td>\n",
       "      <td>[0.8182082434945347]</td>\n",
       "    </tr>\n",
       "    <tr>\n",
       "      <th>3</th>\n",
       "      <td>ethnic_ E</td>\n",
       "      <td>[1.0869304454920818]</td>\n",
       "    </tr>\n",
       "    <tr>\n",
       "      <th>4</th>\n",
       "      <td>sex</td>\n",
       "      <td>[-0.44583382499676144]</td>\n",
       "    </tr>\n",
       "    <tr>\n",
       "      <th>5</th>\n",
       "      <td>bachelor's</td>\n",
       "      <td>[0.3352425753042841]</td>\n",
       "    </tr>\n",
       "    <tr>\n",
       "      <th>6</th>\n",
       "      <td>high school</td>\n",
       "      <td>[-0.5916591900712315]</td>\n",
       "    </tr>\n",
       "    <tr>\n",
       "      <th>7</th>\n",
       "      <td>master's</td>\n",
       "      <td>[0.5521009315444951]</td>\n",
       "    </tr>\n",
       "    <tr>\n",
       "      <th>8</th>\n",
       "      <td>some college</td>\n",
       "      <td>[0.08702799057496872]</td>\n",
       "    </tr>\n",
       "    <tr>\n",
       "      <th>9</th>\n",
       "      <td>some high school</td>\n",
       "      <td>[-0.640389424720472]</td>\n",
       "    </tr>\n",
       "    <tr>\n",
       "      <th>10</th>\n",
       "      <td>standard_lunch</td>\n",
       "      <td>[1.2065007158474166]</td>\n",
       "    </tr>\n",
       "    <tr>\n",
       "      <th>11</th>\n",
       "      <td>no_preparation</td>\n",
       "      <td>[-1.0556823141798892]</td>\n",
       "    </tr>\n",
       "  </tbody>\n",
       "</table>\n",
       "</div>"
      ],
      "text/plain": [
       "            features                    coef\n",
       "0          ethnic_ B    [0.3559202667360948]\n",
       "1          ethnic_ C    [0.4556373474102654]\n",
       "2          ethnic_ D    [0.8182082434945347]\n",
       "3          ethnic_ E    [1.0869304454920818]\n",
       "4                sex  [-0.44583382499676144]\n",
       "5        bachelor's     [0.3352425753042841]\n",
       "6        high school   [-0.5916591900712315]\n",
       "7          master's     [0.5521009315444951]\n",
       "8       some college   [0.08702799057496872]\n",
       "9   some high school    [-0.640389424720472]\n",
       "10    standard_lunch    [1.2065007158474166]\n",
       "11    no_preparation   [-1.0556823141798892]"
      ]
     },
     "execution_count": 36,
     "metadata": {},
     "output_type": "execute_result"
    }
   ],
   "source": [
    "pd.DataFrame(zip(x_train.columns, np.transpose(model.coef_)), columns=['features', 'coef']) "
   ]
  },
  {
   "cell_type": "markdown",
   "id": "0703d590-f10c-4a25-aa98-3d9ea8ee3a26",
   "metadata": {},
   "source": [
    " ### Breakdown of the coefficient results and associated p-values"
   ]
  },
  {
   "cell_type": "code",
   "execution_count": 37,
   "id": "201aea81-bc17-4396-92bc-1f860436e185",
   "metadata": {},
   "outputs": [
    {
     "name": "stdout",
     "output_type": "stream",
     "text": [
      "Training set score: 0.751\n",
      "Test set score: 0.740\n",
      "Optimization terminated successfully.\n",
      "         Current function value: 15.163567\n",
      "         Iterations 6\n",
      "                           Logit Regression Results                           \n",
      "==============================================================================\n",
      "Dep. Variable:                   Pass   No. Observations:                 1000\n",
      "Model:                          Logit   Df Residuals:                      988\n",
      "Method:                           MLE   Df Model:                           11\n",
      "Date:                Wed, 19 Feb 2025   Pseudo R-squ.:                     inf\n",
      "Time:                        10:58:53   Log-Likelihood:                -15164.\n",
      "converged:                       True   LL-Null:                        0.0000\n",
      "Covariance Type:            nonrobust   LLR p-value:                     1.000\n",
      "====================================================================================\n",
      "                       coef    std err          z      P>|z|      [0.025      0.975]\n",
      "------------------------------------------------------------------------------------\n",
      "ethnic_ B            0.8917      0.229      3.898      0.000       0.443       1.340\n",
      "ethnic_ C            0.8596      0.203      4.238      0.000       0.462       1.257\n",
      "ethnic_ D            1.2389      0.224      5.538      0.000       0.800       1.677\n",
      "ethnic_ E            1.5368      0.279      5.500      0.000       0.989       2.085\n",
      "sex                 -0.4614      0.148     -3.110      0.002      -0.752      -0.171\n",
      "bachelor's           0.8144      0.288      2.825      0.005       0.249       1.379\n",
      "high school         -0.3270      0.212     -1.543      0.123      -0.742       0.088\n",
      "master's             0.8275      0.395      2.094      0.036       0.053       1.602\n",
      "some college         0.3314      0.217      1.528      0.126      -0.094       0.756\n",
      "some high school    -0.3259      0.217     -1.501      0.133      -0.751       0.100\n",
      "standard_lunch       1.3376      0.152      8.779      0.000       1.039       1.636\n",
      "no_preparation      -1.0064      0.164     -6.129      0.000      -1.328      -0.685\n",
      "====================================================================================\n"
     ]
    },
    {
     "name": "stderr",
     "output_type": "stream",
     "text": [
      "C:\\Anaconda3\\lib\\site-packages\\statsmodels\\base\\model.py:592: HessianInversionWarning: Inverting hessian failed, no bse or cov_params available\n",
      "  warnings.warn('Inverting hessian failed, no bse or cov_params '\n",
      "C:\\Anaconda3\\lib\\site-packages\\statsmodels\\base\\model.py:592: HessianInversionWarning: Inverting hessian failed, no bse or cov_params available\n",
      "  warnings.warn('Inverting hessian failed, no bse or cov_params '\n",
      "C:\\Anaconda3\\lib\\site-packages\\statsmodels\\discrete\\discrete_model.py:3511: RuntimeWarning: divide by zero encountered in double_scalars\n",
      "  return 1 - self.llf/self.llnull\n"
     ]
    }
   ],
   "source": [
    "\n",
    "\n",
    "print(\"Training set score: {:.3f}\".format(model.score(x_train,y_train)))\n",
    "print(\"Test set score: {:.3f}\".format(model.score(x_test,y_test)))\n",
    "\n",
    "import statsmodels.api as sm\n",
    "logit_model=sm.Logit(y,x)\n",
    "result=logit_model.fit()\n",
    "print(result.summary())"
   ]
  },
  {
   "cell_type": "markdown",
   "id": "3ccfdd35-6c20-46c5-88a7-c122c6ae0900",
   "metadata": {},
   "source": [
    "# END"
   ]
  },
  {
   "cell_type": "code",
   "execution_count": null,
   "id": "2dc810ad-f72c-46f3-b6f3-f9641802f2a9",
   "metadata": {},
   "outputs": [],
   "source": []
  }
 ],
 "metadata": {
  "kernelspec": {
   "display_name": "Python 3",
   "language": "python",
   "name": "python3"
  },
  "language_info": {
   "codemirror_mode": {
    "name": "ipython",
    "version": 3
   },
   "file_extension": ".py",
   "mimetype": "text/x-python",
   "name": "python",
   "nbconvert_exporter": "python",
   "pygments_lexer": "ipython3",
   "version": "3.9.13"
  }
 },
 "nbformat": 4,
 "nbformat_minor": 5
}
